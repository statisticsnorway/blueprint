{
 "cells": [
  {
   "cell_type": "code",
   "execution_count": null,
   "metadata": {},
   "outputs": [],
   "source": [
    "#!outputs\n",
    "#/familie/en\n",
    "#/familie/to\n",
    "#/familie/tre\n",
    "\n",
    "#!inputs\n",
    "#/skatt/en\n",
    "#/skatt/to\n",
    "#/rå/familie\n",
    "#/freg/tre\n",
    "#/freg/fire"
   ]
  }
 ],
 "metadata": {
  "kernelspec": {
   "display_name": "Pyspark (local)",
   "language": "python",
   "name": "pyspark_local"
  },
  "language_info": {
   "name": ""
  }
 },
 "nbformat": 4,
 "nbformat_minor": 4
}
