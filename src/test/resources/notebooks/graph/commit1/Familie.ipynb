{
 "cells": [
  {
   "cell_type": "code",
   "execution_count": null,
   "metadata": {},
   "outputs": [],
   "source": [
    "#!outputs\n",
    "#/familie/en\n",
    "#/familie/to\n",
    "\n",
    "#!inputs\n",
    "#/freg/en\n",
    "#/freg/to\n",
    "#/rå/familie\n",
    "#/skatt/tre\n",
    "#/skatt/fire"
   ]
  }
 ],
 "metadata": {
  "kernelspec": {
   "display_name": "Pyspark (local)",
   "language": "python",
   "name": "pyspark_local"
  },
  "language_info": {
   "name": ""
  }
 },
 "nbformat": 4,
 "nbformat_minor": 4
}
