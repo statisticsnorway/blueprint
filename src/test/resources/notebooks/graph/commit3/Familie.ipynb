{
 "cells": [
  {
   "cell_type": "code",
   "execution_count": null,
   "metadata": {},
   "outputs": [],
   "source": [
    "%%output\n",
    "/familie/en\n",
    "/familie/to\n",
    "/familie/tre\n",
    "\n"
   ]
  },
  {
   "cell_type": "code",
   "execution_count": null,
   "metadata": {},
   "outputs": [],
   "source": [
    "%%input\n",
    "/skatt/en\n",
    "/skatt/to\n",
    "/rå/familie\n",
    "/freg/tre\n",
    "/freg/fire"
   ]
  },
  {
   "cell_type": "code",
    "execution_count": null,
    "metadata": {},
    "outputs": [],
    "source": [
     "#some comments for Familie\n"
   ]
  }
 ],
 "metadata": {
  "kernelspec": {
   "display_name": "Pyspark (local)",
   "language": "python",
   "name": "pyspark_local"
  },
  "language_info": {
   "name": ""
  }
 },
 "nbformat": 4,
 "nbformat_minor": 4
}
